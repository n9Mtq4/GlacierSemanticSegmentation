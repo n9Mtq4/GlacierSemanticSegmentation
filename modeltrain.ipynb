{
 "cells": [
  {
   "cell_type": "code",
   "execution_count": 17,
   "metadata": {},
   "outputs": [],
   "source": [
    "import numpy as np\n",
    "import matplotlib.pyplot as plt\n",
    "%matplotlib inline\n",
    "import glob\n",
    "import os\n",
    "import sys\n",
    "from pathlib import Path\n",
    "from PIL import Image"
   ]
  },
  {
   "cell_type": "code",
   "execution_count": 12,
   "metadata": {
    "scrolled": false
   },
   "outputs": [
    {
     "data": {
      "text/plain": [
       "[PosixPath('data/tiles/ls7/B1'),\n",
       " PosixPath('data/tiles/ls7/B2'),\n",
       " PosixPath('data/tiles/ls7/B3'),\n",
       " PosixPath('data/tiles/ls7/B4'),\n",
       " PosixPath('data/tiles/ls7/B5'),\n",
       " PosixPath('data/tiles/ls7/B7')]"
      ]
     },
     "metadata": {},
     "output_type": "display_data"
    },
    {
     "data": {
      "text/plain": [
       "[PosixPath('data/tiles/ls7/truth/LE07_L1TP_043005_20010721_20170204_01_T1_TILE3072_4864_512_512__T0.png'),\n",
       " PosixPath('data/tiles/ls7/truth/LE07_L1TP_043005_20010721_20170204_01_T1_TILE5120_6144_512_512__T0.png'),\n",
       " PosixPath('data/tiles/ls7/truth/LE07_L1TP_043005_20010721_20170204_01_T1_TILE3840_4352_512_512__T0.png'),\n",
       " PosixPath('data/tiles/ls7/truth/LE07_L1TP_043006_20010721_20170204_01_T1_TILE3840_3072_512_512__T0.png'),\n",
       " PosixPath('data/tiles/ls7/truth/LE07_L1TP_043005_20010721_20170204_01_T1_TILE3584_5632_512_512__T0.png'),\n",
       " PosixPath('data/tiles/ls7/truth/LE07_L1TP_043006_20010721_20170204_01_T1_TILE4608_2816_512_512__T0.png'),\n",
       " PosixPath('data/tiles/ls7/truth/LE07_L1TP_043005_20010721_20170204_01_T1_TILE4608_6656_512_512__T0.png'),\n",
       " PosixPath('data/tiles/ls7/truth/LE07_L1TP_043005_20010721_20170204_01_T1_TILE3072_5376_512_512__T0.png'),\n",
       " PosixPath('data/tiles/ls7/truth/LE07_L1TP_043006_19990801_20170218_01_T1_TILE4608_1536_512_512__T0.png'),\n",
       " PosixPath('data/tiles/ls7/truth/LE07_L1TP_043005_20010721_20170204_01_T1_TILE3840_4096_512_512__T0.png'),\n",
       " PosixPath('data/tiles/ls7/truth/LE07_L1TP_043005_20010721_20170204_01_T1_TILE2816_5376_512_512__T0.png'),\n",
       " PosixPath('data/tiles/ls7/truth/LE07_L1TP_043006_20010721_20170204_01_T1_TILE3840_2816_512_512__T0.png'),\n",
       " PosixPath('data/tiles/ls7/truth/LE07_L1TP_043005_20010721_20170204_01_T1_TILE3584_4352_512_512__T0.png'),\n",
       " PosixPath('data/tiles/ls7/truth/LE07_L1TP_043005_20010721_20170204_01_T1_TILE3328_5632_512_512__T0.png'),\n",
       " PosixPath('data/tiles/ls7/truth/LE07_L1TP_043006_20010721_20170204_01_T1_TILE4096_2816_512_512__T0.png'),\n",
       " PosixPath('data/tiles/ls7/truth/LE07_L1TP_043006_20010721_20170204_01_T1_TILE3840_2560_512_512__T0.png'),\n",
       " PosixPath('data/tiles/ls7/truth/LE07_L1TP_043005_20010721_20170204_01_T1_TILE4352_5632_512_512__T0.png'),\n",
       " PosixPath('data/tiles/ls7/truth/LE07_L1TP_043005_20010721_20170204_01_T1_TILE4352_5888_512_512__T0.png'),\n",
       " PosixPath('data/tiles/ls7/truth/LE07_L1TP_043005_20010721_20170204_01_T1_TILE4864_5632_512_512__T0.png'),\n",
       " PosixPath('data/tiles/ls7/truth/LE07_L1TP_043005_20010721_20170204_01_T1_TILE4608_5120_512_512__T0.png'),\n",
       " PosixPath('data/tiles/ls7/truth/LE07_L1TP_043005_20010721_20170204_01_T1_TILE4352_6144_512_512__T0.png'),\n",
       " PosixPath('data/tiles/ls7/truth/LE07_L1TP_043005_20010721_20170204_01_T1_TILE4608_5632_512_512__T0.png'),\n",
       " PosixPath('data/tiles/ls7/truth/LE07_L1TP_043005_20010721_20170204_01_T1_TILE3584_4864_512_512__T0.png'),\n",
       " PosixPath('data/tiles/ls7/truth/LE07_L1TP_043005_20010721_20170204_01_T1_TILE4608_5888_512_512__T0.png'),\n",
       " PosixPath('data/tiles/ls7/truth/LE07_L1TP_043006_19990801_20170218_01_T1_TILE4608_1024_512_512__T0.png'),\n",
       " PosixPath('data/tiles/ls7/truth/LE07_L1TP_043005_20010721_20170204_01_T1_TILE4864_5120_512_512__T0.png'),\n",
       " PosixPath('data/tiles/ls7/truth/LE07_L1TP_043005_20010721_20170204_01_T1_TILE4608_5376_512_512__T0.png'),\n",
       " PosixPath('data/tiles/ls7/truth/LE07_L1TP_043006_19990801_20170218_01_T1_TILE4608_1280_512_512__T0.png'),\n",
       " PosixPath('data/tiles/ls7/truth/LE07_L1TP_043005_20010721_20170204_01_T1_TILE4608_4096_512_512__T0.png'),\n",
       " PosixPath('data/tiles/ls7/truth/LE07_L1TP_043006_20010721_20170204_01_T1_TILE3328_3072_512_512__T0.png'),\n",
       " PosixPath('data/tiles/ls7/truth/LE07_L1TP_043005_20010721_20170204_01_T1_TILE4608_6400_512_512__T0.png'),\n",
       " PosixPath('data/tiles/ls7/truth/LE07_L1TP_043005_20010721_20170204_01_T1_TILE3328_6144_512_512__T0.png'),\n",
       " PosixPath('data/tiles/ls7/truth/LE07_L1TP_043005_20010721_20170204_01_T1_TILE4608_4352_512_512__T0.png'),\n",
       " PosixPath('data/tiles/ls7/truth/LE07_L1TP_043005_20010721_20170204_01_T1_TILE3328_5376_512_512__T0.png'),\n",
       " PosixPath('data/tiles/ls7/truth/LE07_L1TP_043005_20010721_20170204_01_T1_TILE4096_6144_512_512__T0.png'),\n",
       " PosixPath('data/tiles/ls7/truth/LE07_L1TP_043005_20010721_20170204_01_T1_TILE4096_5632_512_512__T0.png'),\n",
       " PosixPath('data/tiles/ls7/truth/LE07_L1TP_043005_20010721_20170204_01_T1_TILE4096_4352_512_512__T0.png'),\n",
       " PosixPath('data/tiles/ls7/truth/LE07_L1TP_043005_20010721_20170204_01_T1_TILE5376_4352_512_512__T0.png'),\n",
       " PosixPath('data/tiles/ls7/truth/LE07_L1TP_043005_20010721_20170204_01_T1_TILE4608_4608_512_512__T0.png'),\n",
       " PosixPath('data/tiles/ls7/truth/LE07_L1TP_043005_20010721_20170204_01_T1_TILE4608_4864_512_512__T0.png'),\n",
       " PosixPath('data/tiles/ls7/truth/LE07_L1TP_043005_20010721_20170204_01_T1_TILE4352_4608_512_512__T0.png'),\n",
       " PosixPath('data/tiles/ls7/truth/LE07_L1TP_043006_19990801_20170218_01_T1_TILE4352_1536_512_512__T0.png'),\n",
       " PosixPath('data/tiles/ls7/truth/LE07_L1TP_043006_19990801_20170218_01_T1_TILE4864_1024_512_512__T0.png'),\n",
       " PosixPath('data/tiles/ls7/truth/LE07_L1TP_043006_20010721_20170204_01_T1_TILE3584_2816_512_512__T0.png'),\n",
       " PosixPath('data/tiles/ls7/truth/LE07_L1TP_043005_20010721_20170204_01_T1_TILE2816_5632_512_512__T0.png'),\n",
       " PosixPath('data/tiles/ls7/truth/LE07_L1TP_043005_20010721_20170204_01_T1_TILE3840_6144_512_512__T0.png'),\n",
       " PosixPath('data/tiles/ls7/truth/LE07_L1TP_043005_20010721_20170204_01_T1_TILE2816_5120_512_512__T0.png'),\n",
       " PosixPath('data/tiles/ls7/truth/LE07_L1TP_043005_20010721_20170204_01_T1_TILE3840_5120_512_512__T0.png'),\n",
       " PosixPath('data/tiles/ls7/truth/LE07_L1TP_043005_20010721_20170204_01_T1_TILE3072_6144_512_512__T0.png'),\n",
       " PosixPath('data/tiles/ls7/truth/LE07_L1TP_043005_20010721_20170204_01_T1_TILE4096_4864_512_512__T0.png'),\n",
       " PosixPath('data/tiles/ls7/truth/LE07_L1TP_043005_20010721_20170204_01_T1_TILE3328_4864_512_512__T0.png'),\n",
       " PosixPath('data/tiles/ls7/truth/LE07_L1TP_043006_19990801_20170218_01_T1_TILE4352_1024_512_512__T0.png'),\n",
       " PosixPath('data/tiles/ls7/truth/LE07_L1TP_043005_20010721_20170204_01_T1_TILE4352_6912_512_512__T0.png'),\n",
       " PosixPath('data/tiles/ls7/truth/LE07_L1TP_043005_20010721_20170204_01_T1_TILE3072_5120_512_512__T0.png'),\n",
       " PosixPath('data/tiles/ls7/truth/LE07_L1TP_043005_20010721_20170204_01_T1_TILE3840_5376_512_512__T0.png'),\n",
       " PosixPath('data/tiles/ls7/truth/LE07_L1TP_043005_20010721_20170204_01_T1_TILE5632_5376_512_512__T0.png'),\n",
       " PosixPath('data/tiles/ls7/truth/LE07_L1TP_043005_20010721_20170204_01_T1_TILE3328_5120_512_512__T0.png'),\n",
       " PosixPath('data/tiles/ls7/truth/LE07_L1TP_043005_20010721_20170204_01_T1_TILE5120_4096_512_512__T0.png'),\n",
       " PosixPath('data/tiles/ls7/truth/LE07_L1TP_043005_20010721_20170204_01_T1_TILE4352_4096_512_512__T0.png'),\n",
       " PosixPath('data/tiles/ls7/truth/LE07_L1TP_043005_20010721_20170204_01_T1_TILE3328_5888_512_512__T0.png'),\n",
       " PosixPath('data/tiles/ls7/truth/LE07_L1TP_043005_20010721_20170204_01_T1_TILE3840_5888_512_512__T0.png'),\n",
       " PosixPath('data/tiles/ls7/truth/LE07_L1TP_043006_19990801_20170218_01_T1_TILE4352_1280_512_512__T0.png'),\n",
       " PosixPath('data/tiles/ls7/truth/LE07_L1TP_043005_20010721_20170204_01_T1_TILE4352_4864_512_512__T0.png'),\n",
       " PosixPath('data/tiles/ls7/truth/LE07_L1TP_043005_20010721_20170204_01_T1_TILE5120_5376_512_512__T0.png'),\n",
       " PosixPath('data/tiles/ls7/truth/LE07_L1TP_043006_20010721_20170204_01_T1_TILE4352_2560_512_512__T0.png'),\n",
       " PosixPath('data/tiles/ls7/truth/LE07_L1TP_043005_20010721_20170204_01_T1_TILE4864_4096_512_512__T0.png'),\n",
       " PosixPath('data/tiles/ls7/truth/LE07_L1TP_043006_20010721_20170204_01_T1_TILE3328_2816_512_512__T0.png'),\n",
       " PosixPath('data/tiles/ls7/truth/LE07_L1TP_043005_20010721_20170204_01_T1_TILE3840_4608_512_512__T0.png'),\n",
       " PosixPath('data/tiles/ls7/truth/LE07_L1TP_043006_20010721_20170204_01_T1_TILE3328_2560_512_512__T0.png'),\n",
       " PosixPath('data/tiles/ls7/truth/LE07_L1TP_043005_20010721_20170204_01_T1_TILE4352_5376_512_512__T0.png'),\n",
       " PosixPath('data/tiles/ls7/truth/LE07_L1TP_043005_20010721_20170204_01_T1_TILE5376_4608_512_512__T0.png'),\n",
       " PosixPath('data/tiles/ls7/truth/LE07_L1TP_043005_20010721_20170204_01_T1_TILE3840_4864_512_512__T0.png'),\n",
       " PosixPath('data/tiles/ls7/truth/LE07_L1TP_043006_20010721_20170204_01_T1_TILE4352_2816_512_512__T0.png'),\n",
       " PosixPath('data/tiles/ls7/truth/LE07_L1TP_043005_20010721_20170204_01_T1_TILE4352_6400_512_512__T0.png'),\n",
       " PosixPath('data/tiles/ls7/truth/LE07_L1TP_043006_20010721_20170204_01_T1_TILE4352_3072_512_512__T0.png'),\n",
       " PosixPath('data/tiles/ls7/truth/LE07_L1TP_043005_20010721_20170204_01_T1_TILE4864_6656_512_512__T0.png'),\n",
       " PosixPath('data/tiles/ls7/truth/LE07_L1TP_043005_20010721_20170204_01_T1_TILE4096_5888_512_512__T0.png'),\n",
       " PosixPath('data/tiles/ls7/truth/LE07_L1TP_043006_20010721_20170204_01_T1_TILE4608_3072_512_512__T0.png'),\n",
       " PosixPath('data/tiles/ls7/truth/LE07_L1TP_043005_20010721_20170204_01_T1_TILE4096_6400_512_512__T0.png'),\n",
       " PosixPath('data/tiles/ls7/truth/LE07_L1TP_043005_20010721_20170204_01_T1_TILE5632_4608_512_512__T0.png'),\n",
       " PosixPath('data/tiles/ls7/truth/LE07_L1TP_043005_20010721_20170204_01_T1_TILE5120_4352_512_512__T0.png'),\n",
       " PosixPath('data/tiles/ls7/truth/LE07_L1TP_043005_20010721_20170204_01_T1_TILE5376_4864_512_512__T0.png'),\n",
       " PosixPath('data/tiles/ls7/truth/LE07_L1TP_043005_20010721_20170204_01_T1_TILE5120_4864_512_512__T0.png'),\n",
       " PosixPath('data/tiles/ls7/truth/LE07_L1TP_043005_20010721_20170204_01_T1_TILE5376_5376_512_512__T0.png'),\n",
       " PosixPath('data/tiles/ls7/truth/LE07_L1TP_043005_20010721_20170204_01_T1_TILE3072_5888_512_512__T0.png'),\n",
       " PosixPath('data/tiles/ls7/truth/LE07_L1TP_043005_20010721_20170204_01_T1_TILE4864_6912_512_512__T0.png'),\n",
       " PosixPath('data/tiles/ls7/truth/LE07_L1TP_043005_20010721_20170204_01_T1_TILE5376_5120_512_512__T0.png'),\n",
       " PosixPath('data/tiles/ls7/truth/LE07_L1TP_043005_20010721_20170204_01_T1_TILE4096_4608_512_512__T0.png'),\n",
       " PosixPath('data/tiles/ls7/truth/LE07_L1TP_043006_20010721_20170204_01_T1_TILE3584_2560_512_512__T0.png'),\n",
       " PosixPath('data/tiles/ls7/truth/LE07_L1TP_043006_19990801_20170218_01_T1_TILE4864_1280_512_512__T0.png'),\n",
       " PosixPath('data/tiles/ls7/truth/LE07_L1TP_043005_20010721_20170204_01_T1_TILE4608_6144_512_512__T0.png'),\n",
       " PosixPath('data/tiles/ls7/truth/LE07_L1TP_043005_20010721_20170204_01_T1_TILE4096_4096_512_512__T0.png'),\n",
       " PosixPath('data/tiles/ls7/truth/LE07_L1TP_043005_20010721_20170204_01_T1_TILE5120_5120_512_512__T0.png'),\n",
       " PosixPath('data/tiles/ls7/truth/LE07_L1TP_043005_20010721_20170204_01_T1_TILE3584_5120_512_512__T0.png'),\n",
       " PosixPath('data/tiles/ls7/truth/LE07_L1TP_043005_20010721_20170204_01_T1_TILE4352_5120_512_512__T0.png'),\n",
       " PosixPath('data/tiles/ls7/truth/LE07_L1TP_043005_20010721_20170204_01_T1_TILE4864_5888_512_512__T0.png'),\n",
       " PosixPath('data/tiles/ls7/truth/LE07_L1TP_043005_20010721_20170204_01_T1_TILE3584_4608_512_512__T0.png'),\n",
       " PosixPath('data/tiles/ls7/truth/LE07_L1TP_043005_20010721_20170204_01_T1_TILE5120_5632_512_512__T0.png'),\n",
       " PosixPath('data/tiles/ls7/truth/LE07_L1TP_043005_20010721_20170204_01_T1_TILE4864_6400_512_512__T0.png'),\n",
       " PosixPath('data/tiles/ls7/truth/LE07_L1TP_043005_20010721_20170204_01_T1_TILE4864_4608_512_512__T0.png'),\n",
       " PosixPath('data/tiles/ls7/truth/LE07_L1TP_043005_20010721_20170204_01_T1_TILE4608_6912_512_512__T0.png'),\n",
       " PosixPath('data/tiles/ls7/truth/LE07_L1TP_043005_20010721_20170204_01_T1_TILE4352_4352_512_512__T0.png'),\n",
       " PosixPath('data/tiles/ls7/truth/LE07_L1TP_043005_20010721_20170204_01_T1_TILE5120_4608_512_512__T0.png'),\n",
       " PosixPath('data/tiles/ls7/truth/LE07_L1TP_043006_20010721_20170204_01_T1_TILE3584_3072_512_512__T0.png'),\n",
       " PosixPath('data/tiles/ls7/truth/LE07_L1TP_043005_20010721_20170204_01_T1_TILE3584_5376_512_512__T0.png'),\n",
       " PosixPath('data/tiles/ls7/truth/LE07_L1TP_043006_20010721_20170204_01_T1_TILE4096_2560_512_512__T0.png'),\n",
       " PosixPath('data/tiles/ls7/truth/LE07_L1TP_043005_20010721_20170204_01_T1_TILE3840_5632_512_512__T0.png'),\n",
       " PosixPath('data/tiles/ls7/truth/LE07_L1TP_043005_20010721_20170204_01_T1_TILE3072_5632_512_512__T0.png'),\n",
       " PosixPath('data/tiles/ls7/truth/LE07_L1TP_043005_20010721_20170204_01_T1_TILE5632_5120_512_512__T0.png'),\n",
       " PosixPath('data/tiles/ls7/truth/LE07_L1TP_043005_20010721_20170204_01_T1_TILE4864_6144_512_512__T0.png'),\n",
       " PosixPath('data/tiles/ls7/truth/LE07_L1TP_043006_20010721_20170204_01_T1_TILE4096_3072_512_512__T0.png'),\n",
       " PosixPath('data/tiles/ls7/truth/LE07_L1TP_043005_20010721_20170204_01_T1_TILE4864_4864_512_512__T0.png'),\n",
       " PosixPath('data/tiles/ls7/truth/LE07_L1TP_043005_20010721_20170204_01_T1_TILE4864_4352_512_512__T0.png'),\n",
       " PosixPath('data/tiles/ls7/truth/LE07_L1TP_043005_20010721_20170204_01_T1_TILE4096_5376_512_512__T0.png'),\n",
       " PosixPath('data/tiles/ls7/truth/LE07_L1TP_043005_20010721_20170204_01_T1_TILE4864_5376_512_512__T0.png'),\n",
       " PosixPath('data/tiles/ls7/truth/LE07_L1TP_043005_20010721_20170204_01_T1_TILE3328_4608_512_512__T0.png'),\n",
       " PosixPath('data/tiles/ls7/truth/LE07_L1TP_043005_20010721_20170204_01_T1_TILE4096_5120_512_512__T0.png'),\n",
       " PosixPath('data/tiles/ls7/truth/LE07_L1TP_043005_20010721_20170204_01_T1_TILE3584_5888_512_512__T0.png'),\n",
       " PosixPath('data/tiles/ls7/truth/LE07_L1TP_043005_20010721_20170204_01_T1_TILE5632_4864_512_512__T0.png'),\n",
       " PosixPath('data/tiles/ls7/truth/LE07_L1TP_043006_19990801_20170218_01_T1_TILE4864_1536_512_512__T0.png'),\n",
       " PosixPath('data/tiles/ls7/truth/LE07_L1TP_043005_20010721_20170204_01_T1_TILE4352_6656_512_512__T0.png'),\n",
       " PosixPath('data/tiles/ls7/truth/LE07_L1TP_043005_20010721_20170204_01_T1_TILE5120_5888_512_512__T0.png'),\n",
       " PosixPath('data/tiles/ls7/truth/LE07_L1TP_043005_20010721_20170204_01_T1_TILE5376_5632_512_512__T0.png')]"
      ]
     },
     "metadata": {},
     "output_type": "display_data"
    }
   ],
   "source": [
    "DATA_DIR = Path(\"./data/tiles/ls7\")\n",
    "\n",
    "MAX_X = 255\n",
    "MAX_Y = 65535  # TODO: Tilegen outputs rgb image, not grayscale\n",
    "\n",
    "BAND_DIRS = sorted(list(DATA_DIR.glob(\"B*\")))\n",
    "TRUTH_DIR = DATA_DIR / \"truth\"\n",
    "\n",
    "display(BAND_DIRS)\n",
    "display(list())"
   ]
  },
  {
   "cell_type": "code",
   "execution_count": 15,
   "metadata": {},
   "outputs": [],
   "source": [
    "truth_paths = list(TRUTH_DIR.glob(\"*.png\"))"
   ]
  },
  {
   "cell_type": "code",
   "execution_count": 30,
   "metadata": {},
   "outputs": [],
   "source": [
    "def read_fname(fname):\n",
    "    truth = np.array(Image.open(TRUTH_DIR / fname))\n",
    "    bands = np.asarray([np.array(Image.open(band_dir / fname)) for band_dir in BAND_DIRS])\n",
    "    mchannel = np.dstack(bands)\n",
    "    return mchannel, truth"
   ]
  },
  {
   "cell_type": "code",
   "execution_count": 34,
   "metadata": {},
   "outputs": [
    {
     "data": {
      "text/plain": [
       "'LE07_L1TP_043005_20010721_20170204_01_T1_TILE3072_4864_512_512__T0.png'"
      ]
     },
     "metadata": {},
     "output_type": "display_data"
    },
    {
     "name": "stdout",
     "output_type": "stream",
     "text": [
      "False\n"
     ]
    },
    {
     "name": "stderr",
     "output_type": "stream",
     "text": [
      "<ipython-input-30-0eec7e256082>:5: DeprecationWarning: elementwise comparison failed; this will raise an error in the future.\n",
      "  print(bands == mchannel)\n"
     ]
    },
    {
     "data": {
      "text/plain": [
       "(6, 512, 512)"
      ]
     },
     "metadata": {},
     "output_type": "display_data"
    },
    {
     "data": {
      "text/plain": [
       "(512, 512)"
      ]
     },
     "metadata": {},
     "output_type": "display_data"
    }
   ],
   "source": [
    "display(truth_paths[0].name)\n",
    "\n",
    "x0, y0 = read_fname(truth_paths[0].name)\n",
    "\n",
    "display(x0.shape)\n",
    "display(y0.shape)\n"
   ]
  },
  {
   "cell_type": "code",
   "execution_count": null,
   "metadata": {},
   "outputs": [],
   "source": []
  }
 ],
 "metadata": {
  "kernelspec": {
   "display_name": "Python 3",
   "language": "python",
   "name": "python3"
  },
  "language_info": {
   "codemirror_mode": {
    "name": "ipython",
    "version": 3
   },
   "file_extension": ".py",
   "mimetype": "text/x-python",
   "name": "python",
   "nbconvert_exporter": "python",
   "pygments_lexer": "ipython3",
   "version": "3.8.3"
  }
 },
 "nbformat": 4,
 "nbformat_minor": 4
}
