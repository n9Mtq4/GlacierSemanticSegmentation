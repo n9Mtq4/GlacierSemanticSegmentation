{
 "cells": [
  {
   "cell_type": "markdown",
   "metadata": {},
   "source": [
    "U^2 Net - https://github.com/NathanUA/U-2-Net/blob/master/model/u2net.py\n",
    "\n",
    "Based off of implementation https://github.com/NathanUA/U-2-Net/blob/master/model/u2net.py"
   ]
  },
  {
   "cell_type": "code",
   "execution_count": null,
   "metadata": {},
   "outputs": [],
   "source": [
    "import tensorflow as tf"
   ]
  },
  {
   "cell_type": "code",
   "execution_count": null,
   "metadata": {},
   "outputs": [],
   "source": [
    "from tensorflow.keras.models import Model\n",
    "from tensorflow.keras.layers import (\n",
    "    BatchNormalization,\n",
    "    Conv2D,\n",
    "    Conv2DTranspose,\n",
    "    MaxPooling2D,\n",
    "    Dropout,\n",
    "    SpatialDropout2D,\n",
    "    UpSampling2D,\n",
    "    Input,\n",
    "    concatenate,\n",
    "    multiply,\n",
    "    add,\n",
    "    Activation,\n",
    "    GlobalAveragePooling2D,\n",
    "    Dense,\n",
    "    Multiply,\n",
    "    Input,\n",
    ")\n",
    "from tensorflow.keras import backend as K"
   ]
  },
  {
   "cell_type": "code",
   "execution_count": null,
   "metadata": {},
   "outputs": [],
   "source": [
    "def rebnconv_block(inputs, filters = 3, dirate = 1, afunc = 'relu', kernel_initializer=\"he_normal\", padding=\"same\"):\n",
    "    conv = Conv2D(\n",
    "        filters,\n",
    "        3,\n",
    "        kernel_initializer=kernel_initializer,\n",
    "        padding=padding,\n",
    "        dilation_rate=(dirate, dirate),\n",
    "    )(inputs)\n",
    "    bn = BatchNormalization()(conv)\n",
    "    activation = Activation(afunc)(bn)\n",
    "    return activation"
   ]
  },
  {
   "cell_type": "code",
   "execution_count": null,
   "metadata": {},
   "outputs": [],
   "source": [
    "def rsu4f(inputs, in_ch=3, mid_ch=12, out_ch=3):\n",
    "    rebnconvin = rebnconv_block(inputs, out_ch)\n",
    "    \n",
    "    rebnconv1 = rebnconv_block(rebnconvin, mid_ch, dirate=1)\n",
    "    rebnconv2 = rebnconv_block(rebnconv1, mid_ch, dirate=2)\n",
    "    rebnconv3 = rebnconv_block(rebnconv2, mid_ch, dirate=4)\n",
    "    \n",
    "    rebnconv4 = rebnconv_block(rebnconv3, mid_ch, dirate=8)\n",
    "    \n",
    "    rebnconv3d = rebnconv_block(concatenate([rebnconv4, rebnconv3]), mid_ch, dirate=4)\n",
    "    rebnconv2d = rebnconv_block(concatenate([rebnconv3d, rebnconv2]), mid_ch, dirate=2)\n",
    "    rebnconv1d = rebnconv_block(concatenate([rebnconv2d, rebnconv1]), mid_ch, dirate=1)\n",
    "    \n",
    "    return rebnconv1d"
   ]
  },
  {
   "cell_type": "code",
   "execution_count": null,
   "metadata": {},
   "outputs": [],
   "source": [
    "def rsu4(inputs, in_ch=3, mid_ch=12, out_ch=3):\n",
    "    rebnconvin = rebnconv_block(inputs, out_ch)\n",
    "    \n",
    "    rebnconv1 = rebnconv_block(rebnconvin, mid_ch, dirate=1)\n",
    "    pool1 = MaxPooling2D((2, 2))(rebnconv1)\n",
    "    rebnconv2 = rebnconv_block(pool1, mid_ch, dirate=1)\n",
    "    pool2 = MaxPooling2D((2, 2))(rebnconv2)\n",
    "    rebnconv3 = rebnconv_block(pool2, mid_ch, dirate=1)\n",
    "    \n",
    "    rebnconv4 = rebnconv_block(rebnconv3, mid_ch, dirate=2)\n",
    "    \n",
    "    rebnconv3d = rebnconv_block(concatenate([rebnconv4, rebnconv3]), mid_ch, dirate=1)\n",
    "    rebnconv3dup = UpSampling2D((2, 2), interpolation='bilinear')(rebnconv3d)\n",
    "    rebnconv2d = rebnconv_block(concatenate([rebnconv3dup, rebnconv2]), mid_ch, dirate=1)\n",
    "    rebnconv2dup = UpSampling2D((2, 2), interpolation='bilinear')(rebnconv2d)\n",
    "    rebnconv1d = rebnconv_block(concatenate([rebnconv2dup, rebnconv1]), mid_ch, dirate=1)\n",
    "    \n",
    "    return rebnconv1d"
   ]
  },
  {
   "cell_type": "code",
   "execution_count": null,
   "metadata": {},
   "outputs": [],
   "source": [
    "def rsu5(inputs, in_ch=3, mid_ch=12, out_ch=3):\n",
    "    rebnconvin = rebnconv_block(inputs, out_ch)\n",
    "    \n",
    "    rebnconv1 = rebnconv_block(rebnconvin, mid_ch, dirate=1)\n",
    "    pool1 = MaxPooling2D((2, 2))(rebnconv1)\n",
    "    rebnconv2 = rebnconv_block(pool1, mid_ch, dirate=1)\n",
    "    pool2 = MaxPooling2D((2, 2))(rebnconv2)\n",
    "    rebnconv3 = rebnconv_block(pool2, mid_ch, dirate=1)\n",
    "    pool3 = MaxPooling2D((2, 2))(rebnconv3)\n",
    "    rebnconv4 = rebnconv_block(pool3, mid_ch, dirate=1)\n",
    "    \n",
    "    rebnconv5 = rebnconv_block(rebnconv4, mid_ch, dirate=2)\n",
    "    \n",
    "    rebnconv4d = rebnconv_block(concatenate([rebnconv5, rebnconv4]), mid_ch, dirate=1)\n",
    "    rebnconv4dup = UpSampling2D((2, 2), interpolation='bilinear')(rebnconv4d)\n",
    "    rebnconv3d = rebnconv_block(concatenate([rebnconv4dup, rebnconv3]), mid_ch, dirate=1)\n",
    "    rebnconv3dup = UpSampling2D((2, 2), interpolation='bilinear')(rebnconv3d)\n",
    "    rebnconv2d = rebnconv_block(concatenate([rebnconv3dup, rebnconv2]), mid_ch, dirate=1)\n",
    "    rebnconv2dup = UpSampling2D((2, 2), interpolation='bilinear')(rebnconv2d)\n",
    "    rebnconv1d = rebnconv_block(concatenate([rebnconv2dup, rebnconv1]), mid_ch, dirate=1)\n",
    "    \n",
    "    return rebnconv1d"
   ]
  },
  {
   "cell_type": "code",
   "execution_count": null,
   "metadata": {},
   "outputs": [],
   "source": [
    "def rsu6(inputs, in_ch=3, mid_ch=12, out_ch=3):\n",
    "    rebnconvin = rebnconv_block(inputs, out_ch)\n",
    "    \n",
    "    rebnconv1 = rebnconv_block(rebnconvin, mid_ch, dirate=1)\n",
    "    pool1 = MaxPooling2D((2, 2))(rebnconv1)\n",
    "    rebnconv2 = rebnconv_block(pool1, mid_ch, dirate=1)\n",
    "    pool2 = MaxPooling2D((2, 2))(rebnconv2)\n",
    "    rebnconv3 = rebnconv_block(pool2, mid_ch, dirate=1)\n",
    "    pool3 = MaxPooling2D((2, 2))(rebnconv3)\n",
    "    rebnconv4 = rebnconv_block(pool3, mid_ch, dirate=1)\n",
    "    pool4 = MaxPooling2D((2, 2))(rebnconv4)\n",
    "    rebnconv5 = rebnconv_block(pool4, mid_ch, dirate=1)\n",
    "    \n",
    "    rebnconv6 = rebnconv_block(rebnconv5, mid_ch, dirate=2)\n",
    "    \n",
    "    rebnconv5d = rebnconv_block(concatenate([rebnconv6, rebnconv5]), mid_ch, dirate=1)\n",
    "    rebnconv5dup = UpSampling2D((2, 2), interpolation='bilinear')(rebnconv5d)\n",
    "    rebnconv4d = rebnconv_block(concatenate([rebnconv5dup, rebnconv4]), mid_ch, dirate=1)\n",
    "    rebnconv4dup = UpSampling2D((2, 2), interpolation='bilinear')(rebnconv4d)\n",
    "    rebnconv3d = rebnconv_block(concatenate([rebnconv4dup, rebnconv3]), mid_ch, dirate=1)\n",
    "    rebnconv3dup = UpSampling2D((2, 2), interpolation='bilinear')(rebnconv3d)\n",
    "    rebnconv2d = rebnconv_block(concatenate([rebnconv3dup, rebnconv2]), mid_ch, dirate=1)\n",
    "    rebnconv2dup = UpSampling2D((2, 2), interpolation='bilinear')(rebnconv2d)\n",
    "    rebnconv1d = rebnconv_block(concatenate([rebnconv2dup, rebnconv1]), mid_ch, dirate=1)\n",
    "    \n",
    "    return rebnconv1d"
   ]
  },
  {
   "cell_type": "code",
   "execution_count": null,
   "metadata": {},
   "outputs": [],
   "source": [
    "def rsu7(inputs, in_ch=3, mid_ch=12, out_ch=3):\n",
    "    rebnconvin = rebnconv_block(inputs, out_ch)\n",
    "    \n",
    "    rebnconv1 = rebnconv_block(rebnconvin, mid_ch, dirate=1)\n",
    "    pool1 = MaxPooling2D((2, 2))(rebnconv1)\n",
    "    rebnconv2 = rebnconv_block(pool1, mid_ch, dirate=1)\n",
    "    pool2 = MaxPooling2D((2, 2))(rebnconv2)\n",
    "    rebnconv3 = rebnconv_block(pool2, mid_ch, dirate=1)\n",
    "    pool3 = MaxPooling2D((2, 2))(rebnconv3)\n",
    "    rebnconv4 = rebnconv_block(pool3, mid_ch, dirate=1)\n",
    "    pool4 = MaxPooling2D((2, 2))(rebnconv4)\n",
    "    rebnconv5 = rebnconv_block(pool4, mid_ch, dirate=1)\n",
    "    pool5 = MaxPooling2D((2, 2))(rebnconv5)\n",
    "    rebnconv6 = rebnconv_block(pool5, mid_ch, dirate=1)\n",
    "    \n",
    "    rebnconv7 = rebnconv_block(rebnconv6, mid_ch, dirate=2)\n",
    "    \n",
    "    rebnconv6d = rebnconv_block(concatenate([rebnconv7, rebnconv6]), mid_ch, dirate=1)\n",
    "    rebnconv6dup = UpSampling2D((2, 2), interpolation='bilinear')(rebnconv6d)\n",
    "    rebnconv5d = rebnconv_block(concatenate([rebnconv6dup, rebnconv5]), mid_ch, dirate=1)\n",
    "    rebnconv5dup = UpSampling2D((2, 2), interpolation='bilinear')(rebnconv5d)\n",
    "    rebnconv4d = rebnconv_block(concatenate([rebnconv5dup, rebnconv4]), mid_ch, dirate=1)\n",
    "    rebnconv4dup = UpSampling2D((2, 2), interpolation='bilinear')(rebnconv4d)\n",
    "    rebnconv3d = rebnconv_block(concatenate([rebnconv4dup, rebnconv3]), mid_ch, dirate=1)\n",
    "    rebnconv3dup = UpSampling2D((2, 2), interpolation='bilinear')(rebnconv3d)\n",
    "    rebnconv2d = rebnconv_block(concatenate([rebnconv3dup, rebnconv2]), mid_ch, dirate=1)\n",
    "    rebnconv2dup = UpSampling2D((2, 2), interpolation='bilinear')(rebnconv2d)\n",
    "    rebnconv1d = rebnconv_block(concatenate([rebnconv2dup, rebnconv1]), mid_ch, dirate=1)\n",
    "    \n",
    "    return rebnconv1d"
   ]
  },
  {
   "cell_type": "code",
   "execution_count": null,
   "metadata": {
    "scrolled": false
   },
   "outputs": [],
   "source": [
    "min = Input((128, 128, 1))\n",
    "block = rsu7(min)\n",
    "\n",
    "model = Model(inputs=[min], outputs=[block])\n",
    "\n",
    "model.summary()"
   ]
  },
  {
   "cell_type": "code",
   "execution_count": null,
   "metadata": {},
   "outputs": [],
   "source": []
  }
 ],
 "metadata": {
  "kernelspec": {
   "display_name": "Python 3",
   "language": "python",
   "name": "python3"
  },
  "language_info": {
   "codemirror_mode": {
    "name": "ipython",
    "version": 3
   },
   "file_extension": ".py",
   "mimetype": "text/x-python",
   "name": "python",
   "nbconvert_exporter": "python",
   "pygments_lexer": "ipython3",
   "version": "3.8.5"
  }
 },
 "nbformat": 4,
 "nbformat_minor": 4
}
