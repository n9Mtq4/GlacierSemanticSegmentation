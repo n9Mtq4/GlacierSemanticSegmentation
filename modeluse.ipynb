{
 "cells": [
  {
   "cell_type": "code",
   "execution_count": null,
   "metadata": {
    "scrolled": false
   },
   "outputs": [],
   "source": [
    "import numpy as np\n",
    "import matplotlib.pyplot as plt\n",
    "%matplotlib inline\n",
    "import glob\n",
    "import os\n",
    "import sys\n",
    "from pathlib import Path\n",
    "from PIL import Image\n",
    "\n",
    "# disable GPU\n",
    "# os.environ[\"CUDA_VISIBLE_DEVICES\"] = \"-1\"\n",
    "\n",
    "import tensorflow as tf\n",
    "import tensorflow.keras as keras\n"
   ]
  },
  {
   "cell_type": "code",
   "execution_count": null,
   "metadata": {
    "scrolled": false
   },
   "outputs": [],
   "source": [
    "MODEL_NAME = \"512d5f40_B123457_jd2\"\n",
    "\n",
    "IN_DIR = Path(\"./netin\")\n",
    "OUT_DIR = Path(\"./netout\")\n",
    "LOAD_SIZE = 16\n",
    "\n",
    "BAND_DIRS = sorted(list(IN_DIR.glob(\"B*\")))\n",
    "display(BAND_DIRS)"
   ]
  },
  {
   "cell_type": "code",
   "execution_count": null,
   "metadata": {
    "scrolled": false
   },
   "outputs": [],
   "source": [
    "MAX_X = 255\n",
    "\n",
    "def read_fname(fname):\n",
    "    bands = np.asarray([np.array(Image.open(band_dir / fname)) for band_dir in BAND_DIRS]) / MAX_X\n",
    "    mchannel = np.dstack(bands)\n",
    "    return mchannel\n",
    "\n",
    "def rgb_transform(ds):\n",
    "#     return np.flip(ds, 3)  # Bands 2, 3, 4 -> rgb\n",
    "    return np.flip(ds[:,:,:,1:4], 3)  # Bands 1, 2, 3, 4, 5, 7 -> rgb"
   ]
  },
  {
   "cell_type": "code",
   "execution_count": null,
   "metadata": {
    "scrolled": false
   },
   "outputs": [],
   "source": [
    "band1_paths = list(BAND_DIRS[0].glob(\"*.png\"))"
   ]
  },
  {
   "cell_type": "code",
   "execution_count": null,
   "metadata": {
    "scrolled": false
   },
   "outputs": [],
   "source": [
    "def readin_batch(band1pths):\n",
    "    img_lst = []\n",
    "    img_names = []\n",
    "    for imgpth in band1pths:\n",
    "        img = read_fname(imgpth.name)\n",
    "        img_lst.append(img)\n",
    "        img_names.append(imgpth.name)\n",
    "    return img_names, np.asarray(img_lst)\n",
    "\n",
    "def divide_chunks(l, n): \n",
    "    # https://www.geeksforgeeks.org/break-list-chunks-size-n-python/\n",
    "    # looping till length l \n",
    "    for i in range(0, len(l), n):  \n",
    "        yield l[i:i + n] "
   ]
  },
  {
   "cell_type": "code",
   "execution_count": null,
   "metadata": {
    "scrolled": false
   },
   "outputs": [],
   "source": [
    "def write_out_img(name, img_data):\n",
    "    imga = tf.cast(img_data * 255, tf.uint8)\n",
    "    imgencoded = tf.image.encode_png(imga)\n",
    "    out_file = OUT_DIR / name\n",
    "    tf.io.write_file(out_file.as_posix(), imgencoded)"
   ]
  },
  {
   "cell_type": "code",
   "execution_count": null,
   "metadata": {
    "scrolled": false
   },
   "outputs": [],
   "source": []
  },
  {
   "cell_type": "code",
   "execution_count": null,
   "metadata": {
    "scrolled": false
   },
   "outputs": [],
   "source": [
    "from keras_unet.models import custom_unet\n",
    "\n",
    "input_shape = (512, 512, 6)  # 6 channel image\n",
    "# input_shape = (512, 512, 3)  # rgb image\n",
    "\n",
    "model = custom_unet(\n",
    "    input_shape,\n",
    "    filters=40,\n",
    "    use_batch_norm=True,\n",
    "    dropout=0.15,  # 0.3\n",
    "    dropout_change_per_layer=0.0,\n",
    "    num_layers=5\n",
    ")\n",
    "\n",
    "display(model.summary())"
   ]
  },
  {
   "cell_type": "code",
   "execution_count": null,
   "metadata": {
    "scrolled": false
   },
   "outputs": [],
   "source": [
    "model_filename = f'{MODEL_NAME}.h5'\n",
    "model.load_weights(model_filename)"
   ]
  },
  {
   "cell_type": "code",
   "execution_count": null,
   "metadata": {
    "scrolled": false
   },
   "outputs": [],
   "source": [
    "from keras_unet.utils import plot_imgs\n",
    "\n",
    "for batch in divide_chunks(band1_paths, LOAD_SIZE):\n",
    "    names, x_pred = readin_batch(batch)\n",
    "    y_pred = model.predict(x_pred)\n",
    "    plot_imgs(org_imgs=rgb_transform(x_pred), mask_imgs=y_pred, nm_img_to_plot=10, figsize=10)\n",
    "    break\n",
    "    for name, pred in zip(names, y_pred):\n",
    "        write_out_img(name, pred)"
   ]
  },
  {
   "cell_type": "code",
   "execution_count": null,
   "metadata": {
    "scrolled": false
   },
   "outputs": [],
   "source": []
  }
 ],
 "metadata": {
  "kernelspec": {
   "display_name": "Python 3",
   "language": "python",
   "name": "python3"
  },
  "language_info": {
   "codemirror_mode": {
    "name": "ipython",
    "version": 3
   },
   "file_extension": ".py",
   "mimetype": "text/x-python",
   "name": "python",
   "nbconvert_exporter": "python",
   "pygments_lexer": "ipython3",
   "version": "3.8.5"
  }
 },
 "nbformat": 4,
 "nbformat_minor": 4
}
