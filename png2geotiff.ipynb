{
 "cells": [
  {
   "cell_type": "code",
   "execution_count": 1,
   "metadata": {},
   "outputs": [],
   "source": [
    "import numpy as np\n",
    "import gdal, osr \n"
   ]
  },
  {
   "cell_type": "code",
   "execution_count": 2,
   "metadata": {},
   "outputs": [],
   "source": [
    "def write_gtiff(array, gdal_obj, outputpath, dtype=gdal.GDT_UInt16, options=0, color_table=0, nbands=1, nodata=False):\n",
    "    \"\"\"\n",
    "    Writes a geotiff.\n",
    "\n",
    "    array: numpy array to write as geotiff\n",
    "    gdal_obj: object created by gdal.Open() using a tiff that has the SAME CRS, geotransform, and size as the array you're writing\n",
    "    outputpath: path including filename.tiff\n",
    "    dtype (OPTIONAL): datatype to save as\n",
    "    nodata (default: FALSE): set to any value you want to use for nodata; if FALSE, nodata is not set\n",
    "    \"\"\"\n",
    "\n",
    "    gt = gdal_obj.GetGeoTransform()\n",
    "\n",
    "    width = np.shape(array)[1]\n",
    "    height = np.shape(array)[0]\n",
    "\n",
    "    # Prepare destination file\n",
    "    driver = gdal.GetDriverByName(\"GTiff\")\n",
    "    if options != 0:\n",
    "        dest = driver.Create(outputpath, width, height, nbands, dtype, options)\n",
    "    else:\n",
    "        dest = driver.Create(outputpath, width, height, nbands, dtype)\n",
    "\n",
    "    # Write output raster\n",
    "    if color_table != 0:\n",
    "        dest.GetRasterBand(1).SetColorTable(color_table)\n",
    "\n",
    "    dest.GetRasterBand(1).WriteArray(array)\n",
    "\n",
    "    if nodata is not False:\n",
    "        dest.GetRasterBand(1).SetNoDataValue(nodata)\n",
    "\n",
    "    # Set transform and projection\n",
    "    dest.SetGeoTransform(gt)\n",
    "    wkt = gdal_obj.GetProjection()\n",
    "    srs = osr.SpatialReference()\n",
    "    srs.ImportFromWkt(wkt)\n",
    "    dest.SetProjection(srs.ExportToWkt())\n",
    "\n",
    "    # Close output raster dataset \n",
    "    dest = None"
   ]
  },
  {
   "cell_type": "code",
   "execution_count": 5,
   "metadata": {},
   "outputs": [],
   "source": [
    "name = \"LC08_L1TP_044005_20160713_20170222_01_T1\"\n",
    "\n",
    "nn_path = f\"./out/{name}_NN.png\"\n",
    "nnt_path = f\"./out/{name}_NNT.png\"\n",
    "ref_path = f\"./in/{name}_B1.TIF\"\n",
    "\n",
    "out_path = f\"./out/{name}_NN.TIF\"\n",
    "outt_path = f\"./out/{name}_NNT.TIF\"\n",
    "\n",
    "nn = gdal.Open(nn_path)\n",
    "ref = gdal.Open(ref_path)\n",
    "\n",
    "nn_data = nn.GetRasterBand(1).ReadAsArray()\n",
    "# display(nn_data.max())\n",
    "\n",
    "write_gtiff(nn_data, ref, outt_path, options=['COMPRESS=DEFLATE', 'PREDICTOR=2', 'ZLEVEL=9'], nodata=255)\n",
    "write_gtiff(nn_data, ref, out_path, options=['COMPRESS=DEFLATE', 'PREDICTOR=2', 'ZLEVEL=9'])"
   ]
  },
  {
   "cell_type": "code",
   "execution_count": null,
   "metadata": {},
   "outputs": [],
   "source": []
  }
 ],
 "metadata": {
  "kernelspec": {
   "display_name": "Python 3",
   "language": "python",
   "name": "python3"
  },
  "language_info": {
   "codemirror_mode": {
    "name": "ipython",
    "version": 3
   },
   "file_extension": ".py",
   "mimetype": "text/x-python",
   "name": "python",
   "nbconvert_exporter": "python",
   "pygments_lexer": "ipython3",
   "version": "3.8.3"
  }
 },
 "nbformat": 4,
 "nbformat_minor": 4
}
